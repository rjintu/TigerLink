{
 "cells": [
  {
   "cell_type": "code",
   "execution_count": 1,
   "metadata": {},
   "outputs": [],
   "source": [
    "from server.student import Student\n",
    "from server.alum import Alum"
   ]
  },
  {
   "cell_type": "code",
   "execution_count": 14,
   "metadata": {},
   "outputs": [],
   "source": [
    "sahil = Student(12345, \"Sahil\", 2023, \"sahilj\", \"COS\", 93333, 1)\n",
    "andy = Student(23124, \"Andy\", 2023, \"andyh\", \"AAR\", 12342, 3)\n",
    "devon = Student(21432, \"Devon\", 2023, \"andyh\", \"COS\", 12342, 3)\n",
    "tiger = Student(234324, \"Tiger\", 2023, \"andyh\", \"CEE\", 12342, 1)\n",
    "rohan = Student(1234, \"Rohan\", 2023, \"andyh\", \"COS\", 12342, 3)\n",
    "martin = Student(23435, \"Martin\", 2023, \"andyh\", \"COS\", 12342, 2)\n",
    "students = [sahil, andy, devon, tiger, rohan, martin]"
   ]
  },
  {
   "cell_type": "code",
   "execution_count": 15,
   "metadata": {},
   "outputs": [],
   "source": [
    "darren = Alum(32433, \"Darren\", 1999, \"dt\", \"COS\", 94323, 2)\n",
    "jeff = Alum(32433, \"Jeff\", 1988, \"jb\", \"MOL\", 93393, 1)\n",
    "michelle = Alum(32433, \"Michelle\", 1999, \"dt\", \"SOC\", 94323, 2)\n",
    "satnam = Alum(32433, \"Satnam\", 1999, \"dt\", \"MAE\", 94323, 3)\n",
    "alums = [darren, jeff, michelle, satnam]"
   ]
  },
  {
   "cell_type": "code",
   "execution_count": 16,
   "metadata": {},
   "outputs": [],
   "source": [
    "def match():\n",
    "    alumni = alums\n",
    "    matches = []\n",
    "    finalMatches = []\n",
    "    while (len(students) > 0):\n",
    "        if len(alumni) == 0:\n",
    "            return finalMatches\n",
    "\n",
    "        svec = students[0]\n",
    "        students.remove(svec)\n",
    "        if svec._numMatch > 0:\n",
    "            bestSim = -1\n",
    "            bestIdx = -1\n",
    "            updated = False\n",
    "            for idx in range(len(alumni)):\n",
    "                avec = alumni[idx]\n",
    "                # make sure no re-matches EVER\n",
    "                potentialMatch = (svec, avec)\n",
    "                if potentialMatch not in matches and avec._numMatch > 0:\n",
    "                    sim = dotProduct(svec, avec)\n",
    "                    if sim > bestSim:\n",
    "                        bestSim = sim\n",
    "                        bestIdx = idx\n",
    "                        updated = True\n",
    "                            \n",
    "            if updated:\n",
    "                alum = alumni[bestIdx]\n",
    "                match = (svec, alum)\n",
    "                \n",
    "                #match = (svec._name, svec._year, alum._name, alum._year, bestSim)\n",
    "                matches.append(match)\n",
    "                finalMatches.append((svec._name, svec._year, alum._name, alum._year, bestSim))\n",
    "                \n",
    "                del(alumni[bestIdx])\n",
    "                alum._numMatch -= 1\n",
    "\n",
    "                if alum._numMatch > 0:\n",
    "                    alumni.append(alum)\n",
    "\n",
    "                svec._numMatch -= 1\n",
    "                if svec._numMatch > 0:\n",
    "                    students.append(svec)\n",
    "    return finalMatches"
   ]
  },
  {
   "cell_type": "code",
   "execution_count": 17,
   "metadata": {},
   "outputs": [],
   "source": [
    "#sprefs = weightings for career, major, and organizations\n",
    "def dotProduct(svec, avec):\n",
    "    m = 0\n",
    "    if (svec._major == avec._major):\n",
    "        m = 1\n",
    "\n",
    "    carS = 0\n",
    "    if svec._careers != None:\n",
    "        for career in svec._careers:\n",
    "            if career in avec._careers:\n",
    "                carS += 1\n",
    "\n",
    "        totalC = len(list(set().union(svec._careers, avec._careers)))\n",
    "        carS /= totalC\n",
    "\n",
    "    orgS = 0\n",
    "    if svec._organizations != None:\n",
    "        for org in svec._organizations:\n",
    "            if org in avec._organizations:\n",
    "                orgS += 1\n",
    "\n",
    "        totalO = len(list(set().union(svec._organizations, avec._organizations)))\n",
    "        orgS /= totalO\n",
    "\n",
    "    vals = [m, carS, orgS]\n",
    "\n",
    "    sim = 0\n",
    "    for i, weight in enumerate(svec._spref):\n",
    "        sim += vals[i] * weight\n",
    "\n",
    "    finalS = round(sim, 2) * 100\n",
    "\n",
    "    return finalS"
   ]
  },
  {
   "cell_type": "code",
   "execution_count": 18,
   "metadata": {},
   "outputs": [
    {
     "data": {
      "text/plain": [
       "[('Sahil', 2023, 'Darren', 1999, 33.0),\n",
       " ('Andy', 2023, 'Jeff', 1988, 0.0),\n",
       " ('Devon', 2023, 'Darren', 1999, 33.0),\n",
       " ('Tiger', 2023, 'Michelle', 1999, 0.0),\n",
       " ('Rohan', 2023, 'Satnam', 1999, 0.0),\n",
       " ('Martin', 2023, 'Michelle', 1999, 0.0),\n",
       " ('Andy', 2023, 'Satnam', 1999, 0.0),\n",
       " ('Devon', 2023, 'Satnam', 1999, 0.0)]"
      ]
     },
     "execution_count": 18,
     "metadata": {},
     "output_type": "execute_result"
    }
   ],
   "source": [
    "match()"
   ]
  },
  {
   "cell_type": "code",
   "execution_count": null,
   "metadata": {},
   "outputs": [],
   "source": []
  },
  {
   "cell_type": "code",
   "execution_count": null,
   "metadata": {},
   "outputs": [],
   "source": []
  }
 ],
 "metadata": {
  "kernelspec": {
   "display_name": "Python 3",
   "language": "python",
   "name": "python3"
  },
  "language_info": {
   "codemirror_mode": {
    "name": "ipython",
    "version": 3
   },
   "file_extension": ".py",
   "mimetype": "text/x-python",
   "name": "python",
   "nbconvert_exporter": "python",
   "pygments_lexer": "ipython3",
   "version": "3.7.3"
  }
 },
 "nbformat": 4,
 "nbformat_minor": 2
}
